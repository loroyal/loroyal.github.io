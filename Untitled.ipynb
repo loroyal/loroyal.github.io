{
 "cells": [
  {
   "cell_type": "code",
   "execution_count": 17,
   "metadata": {},
   "outputs": [
    {
     "name": "stdout",
     "output_type": "stream",
     "text": [
      " I'm sorry. \n",
      "0.30000000000000004\n"
     ]
    }
   ],
   "source": [
    "print(\" I'm sorry. \")\n",
    "print(0.1 + 0.2)\n"
   ]
  },
  {
   "cell_type": "code",
   "execution_count": 13,
   "metadata": {},
   "outputs": [
    {
     "name": "stdout",
     "output_type": "stream",
     "text": [
      "<class 'str'>\n"
     ]
    }
   ],
   "source": [
    "print(type(\"hello\"))"
   ]
  },
  {
   "cell_type": "code",
   "execution_count": 21,
   "metadata": {},
   "outputs": [
    {
     "name": "stdout",
     "output_type": "stream",
     "text": [
      "print(' I'm Sorry.')\n"
     ]
    }
   ],
   "source": [
    "print(\"print(' I'm Sorry.')\")"
   ]
  },
  {
   "cell_type": "code",
   "execution_count": 49,
   "metadata": {},
   "outputs": [],
   "source": [
    "import requests\n",
    "from bs4 import BeautifulSoup\n",
    "res = requests.get('http://www.dgejh.ntpc.edu.tw/')\n",
    "soup = BeautifulSoup(res.text,'lxml')\n",
    "for item in soup.select(\".r-ent\"):\n",
    "    print(item.select(\".title\")[0].text, item.select(\".author\")[0].text)"
   ]
  },
  {
   "cell_type": "code",
   "execution_count": 28,
   "metadata": {},
   "outputs": [
    {
     "name": "stdout",
     "output_type": "stream",
     "text": [
      "data is a <class 'list'>\n",
      "data[0] is a <class 'dict'>\n",
      "狀況:良好 主要污染物：, PM2.5=4\n"
     ]
    }
   ],
   "source": [
    "import requests\n",
    "import json\n",
    "\n",
    "res = requests.get(\"http://opendata2.epa.gov.tw/AQX.json\")\n",
    "data = json.loads(res.text)\n",
    "print(\"data is a \"+str(type(data)))\n",
    "print(\"data[0] is a \"+str(type(data[0])))\n",
    "for kh in data:\n",
    "    if kh['County'] == '高雄市' and kh['SiteName'] == '復興':\n",
    "        print(\"狀況:\"+kh['Status']+' 主要污染物：'+kh['MajorPollutant']+\", PM2.5=\"+kh['PM2.5'])"
   ]
  },
  {
   "cell_type": "code",
   "execution_count": 1,
   "metadata": {},
   "outputs": [
    {
     "name": "stdout",
     "output_type": "stream",
     "text": [
      "Collecting gTTS\n",
      "  Downloading https://files.pythonhosted.org/packages/52/6e/ae8bd869f7166ab541721e9af7b31d7e54901ce96622620e23e2ae141055/gTTS-2.0.1.tar.gz\n",
      "Requirement already satisfied: six in c:\\programdata\\anaconda3\\lib\\site-packages (from gTTS) (1.11.0)\n",
      "Collecting bs4 (from gTTS)\n",
      "  Downloading https://files.pythonhosted.org/packages/10/ed/7e8b97591f6f456174139ec089c769f89a94a1a4025fe967691de971f314/bs4-0.0.1.tar.gz\n",
      "Requirement already satisfied: click in c:\\programdata\\anaconda3\\lib\\site-packages (from gTTS) (6.7)\n",
      "Requirement already satisfied: requests in c:\\programdata\\anaconda3\\lib\\site-packages (from gTTS) (2.18.4)\n",
      "Collecting gtts_token (from gTTS)\n",
      "  Downloading https://files.pythonhosted.org/packages/4c/c8/dd58eba1464729095217d3acfc4f6581348c6f495ea3342ed7dbc9f9e133/gTTS-token-1.1.1.zip\n",
      "Requirement already satisfied: beautifulsoup4 in c:\\programdata\\anaconda3\\lib\\site-packages (from bs4->gTTS) (4.6.0)\n",
      "Requirement already satisfied: chardet<3.1.0,>=3.0.2 in c:\\programdata\\anaconda3\\lib\\site-packages (from requests->gTTS) (3.0.4)\n",
      "Requirement already satisfied: idna<2.7,>=2.5 in c:\\programdata\\anaconda3\\lib\\site-packages (from requests->gTTS) (2.6)\n",
      "Requirement already satisfied: urllib3<1.23,>=1.21.1 in c:\\programdata\\anaconda3\\lib\\site-packages (from requests->gTTS) (1.22)\n",
      "Requirement already satisfied: certifi>=2017.4.17 in c:\\programdata\\anaconda3\\lib\\site-packages (from requests->gTTS) (2018.4.16)\n",
      "Building wheels for collected packages: gTTS, bs4, gtts-token\n",
      "  Running setup.py bdist_wheel for gTTS: started\n",
      "  Running setup.py bdist_wheel for gTTS: finished with status 'done'\n",
      "  Stored in directory: C:\\Users\\Administrator\\AppData\\Local\\pip\\Cache\\wheels\\43\\6f\\97\\0b8e19ff092573b27fb199933ebc8b4268b0eea408d6fec014\n",
      "  Running setup.py bdist_wheel for bs4: started\n",
      "  Running setup.py bdist_wheel for bs4: finished with status 'done'\n",
      "  Stored in directory: C:\\Users\\Administrator\\AppData\\Local\\pip\\Cache\\wheels\\a0\\b0\\b2\\4f80b9456b87abedbc0bf2d52235414c3467d8889be38dd472\n",
      "  Running setup.py bdist_wheel for gtts-token: started\n",
      "  Running setup.py bdist_wheel for gtts-token: finished with status 'done'\n",
      "  Stored in directory: C:\\Users\\Administrator\\AppData\\Local\\pip\\Cache\\wheels\\34\\32\\1d\\ad6f1c86797a9e99d167a6c77e3c48a825871fa6cbc96494db\n",
      "Successfully built gTTS bs4 gtts-token\n",
      "Installing collected packages: bs4, gtts-token, gTTS\n",
      "Successfully installed bs4-0.0.1 gTTS-2.0.1 gtts-token-1.1.1\n"
     ]
    },
    {
     "name": "stderr",
     "output_type": "stream",
     "text": [
      "distributed 1.21.8 requires msgpack, which is not installed.\n"
     ]
    }
   ],
   "source": [
    "!pip install gTTS\n",
    "\n",
    "from gtts import gTTS\n",
    "tts = gTTS(text='颱風天上課真提神！', lang='zh-tw')\n",
    "tts.save(\"ts.mp3\")"
   ]
  },
  {
   "cell_type": "code",
   "execution_count": null,
   "metadata": {
    "scrolled": true
   },
   "outputs": [
    {
     "name": "stdout",
     "output_type": "stream",
     "text": [
      "Requirement already satisfied: pytube in c:\\programdata\\anaconda3\\lib\\site-packages (9.2.2)\n"
     ]
    },
    {
     "name": "stderr",
     "output_type": "stream",
     "text": [
      "distributed 1.21.8 requires msgpack, which is not installed.\n"
     ]
    }
   ],
   "source": [
    "! pip install pytube\n",
    "from pytube import Playlist\n",
    "\n",
    "播放清單 = 'https://www.youtube.com/playlist?list=PL_UnJyWUd40ElUibCO0Gi5E10UmiOa3PR'\n",
    "\n",
    "pl = Playlist (播放清單)\n",
    "pl.download_all('C:/')\n",
    "# or if you want to download in a specific directory\n",
    "#pl.download_all('/path/to/directory/')"
   ]
  },
  {
   "cell_type": "code",
   "execution_count": 45,
   "metadata": {},
   "outputs": [
    {
     "name": "stdout",
     "output_type": "stream",
     "text": [
      "Requirement already satisfied: SpeechRecognition in c:\\programdata\\anaconda3\\lib\\site-packages (3.8.1)\n"
     ]
    },
    {
     "name": "stderr",
     "output_type": "stream",
     "text": [
      "distributed 1.21.8 requires msgpack, which is not installed.\n"
     ]
    },
    {
     "ename": "ModuleNotFoundError",
     "evalue": "No module named 'gtts'",
     "output_type": "error",
     "traceback": [
      "\u001b[1;31m---------------------------------------------------------------------------\u001b[0m",
      "\u001b[1;31mModuleNotFoundError\u001b[0m                       Traceback (most recent call last)",
      "\u001b[1;32m<ipython-input-45-2a77c4e1ec62>\u001b[0m in \u001b[0;36m<module>\u001b[1;34m()\u001b[0m\n\u001b[0;32m      2\u001b[0m \u001b[1;33m\u001b[0m\u001b[0m\n\u001b[0;32m      3\u001b[0m \u001b[1;32mimport\u001b[0m \u001b[0mspeech_recognition\u001b[0m \u001b[1;32mas\u001b[0m \u001b[0msr\u001b[0m\u001b[1;33m\u001b[0m\u001b[0m\n\u001b[1;32m----> 4\u001b[1;33m \u001b[1;32mfrom\u001b[0m \u001b[0mgtts\u001b[0m \u001b[1;32mimport\u001b[0m \u001b[0mgTTS\u001b[0m\u001b[1;33m\u001b[0m\u001b[0m\n\u001b[0m\u001b[0;32m      5\u001b[0m \u001b[1;32mimport\u001b[0m \u001b[0msys\u001b[0m\u001b[1;33m,\u001b[0m \u001b[0mos\u001b[0m\u001b[1;33m,\u001b[0m \u001b[0mplatform\u001b[0m\u001b[1;33m,\u001b[0m \u001b[0mtime\u001b[0m\u001b[1;33m\u001b[0m\u001b[0m\n\u001b[0;32m      6\u001b[0m \u001b[1;32mimport\u001b[0m \u001b[0mpygame\u001b[0m \u001b[1;32mas\u001b[0m \u001b[0mpygamee\u001b[0m\u001b[1;33m\u001b[0m\u001b[0m\n",
      "\u001b[1;31mModuleNotFoundError\u001b[0m: No module named 'gtts'"
     ]
    }
   ],
   "source": [
    "!pip install SpeechRecognition\n",
    "\n",
    "import speech_recognition as sr\n",
    "from gtts import gTTS\n",
    "import sys, os, platform, time\n",
    "import pygame as pygamee\n",
    "from pypinyin import lazy_pinyin\n",
    "import datetime\n",
    "\n",
    "basepath = os.path.dirname(os.path.realpath(__file__))\n",
    "mp3base = os.path.join(basepath, 'mp3')\n",
    "if not os.path.exists(os.path.dirname(mp3base)):\n",
    "    os.makedirs(os.path.dirname(mp3base))\n",
    "\n",
    "\n",
    "r = sr.Recognizer()\n",
    "with sr.Microphone() as source:\n",
    "    audio = r.listen(source)\n",
    "\n",
    "result = r.recognize_google(audio, language='zh-TW')\n",
    "print(result)\n",
    "\n",
    "tts = gTTS(text=result, lang='zh-TW')\n",
    "filename = datetime.datetime.now().strftime('%Y%m%d%H%M%S')\n",
    "mp3path = os.path.join(mp3base, filename + \".mp3\")\n",
    "tts.save(mp3path)\n",
    "\n",
    "pygamee.mixer.init()\n",
    "print(\"load:\", mp3path)\n",
    "pygamee.mixer.music.load(mp3path)\n",
    "pygamee.time.delay(1000)\n",
    "pygamee.mixer.music.play()\n",
    "while pygamee.mixer.music.get_busy():\n",
    "    pygamee.time.Clock().tick(5)"
   ]
  },
  {
   "cell_type": "code",
   "execution_count": 2,
   "metadata": {},
   "outputs": [
    {
     "name": "stdout",
     "output_type": "stream",
     "text": [
      "Requirement already satisfied: gTTS in c:\\programdata\\anaconda3\\lib\\site-packages (2.0.1)\n",
      "Requirement already satisfied: six in c:\\programdata\\anaconda3\\lib\\site-packages (from gTTS) (1.11.0)\n",
      "Requirement already satisfied: requests in c:\\programdata\\anaconda3\\lib\\site-packages (from gTTS) (2.18.4)\n",
      "Requirement already satisfied: bs4 in c:\\programdata\\anaconda3\\lib\\site-packages (from gTTS) (0.0.1)\n",
      "Requirement already satisfied: click in c:\\programdata\\anaconda3\\lib\\site-packages (from gTTS) (6.7)\n",
      "Requirement already satisfied: gtts-token in c:\\programdata\\anaconda3\\lib\\site-packages (from gTTS) (1.1.1)\n",
      "Requirement already satisfied: chardet<3.1.0,>=3.0.2 in c:\\programdata\\anaconda3\\lib\\site-packages (from requests->gTTS) (3.0.4)\n",
      "Requirement already satisfied: idna<2.7,>=2.5 in c:\\programdata\\anaconda3\\lib\\site-packages (from requests->gTTS) (2.6)\n",
      "Requirement already satisfied: urllib3<1.23,>=1.21.1 in c:\\programdata\\anaconda3\\lib\\site-packages (from requests->gTTS) (1.22)\n",
      "Requirement already satisfied: certifi>=2017.4.17 in c:\\programdata\\anaconda3\\lib\\site-packages (from requests->gTTS) (2018.4.16)\n",
      "Requirement already satisfied: beautifulsoup4 in c:\\programdata\\anaconda3\\lib\\site-packages (from bs4->gTTS) (4.6.0)\n"
     ]
    },
    {
     "name": "stderr",
     "output_type": "stream",
     "text": [
      "distributed 1.21.8 requires msgpack, which is not installed.\n"
     ]
    }
   ],
   "source": [
    "!pip install gTTS\n",
    "\n",
    "from gtts import gTTS\n",
    "tts = gTTS(text='颱風天上課真提神！', lang='zh-tw')\n",
    "tts.save(\"ts.mp3\")"
   ]
  },
  {
   "cell_type": "code",
   "execution_count": null,
   "metadata": {},
   "outputs": [],
   "source": []
  },
  {
   "cell_type": "code",
   "execution_count": null,
   "metadata": {},
   "outputs": [],
   "source": []
  }
 ],
 "metadata": {
  "kernelspec": {
   "display_name": "Python 3",
   "language": "python",
   "name": "python3"
  },
  "language_info": {
   "codemirror_mode": {
    "name": "ipython",
    "version": 3
   },
   "file_extension": ".py",
   "mimetype": "text/x-python",
   "name": "python",
   "nbconvert_exporter": "python",
   "pygments_lexer": "ipython3",
   "version": "3.6.5"
  }
 },
 "nbformat": 4,
 "nbformat_minor": 2
}
